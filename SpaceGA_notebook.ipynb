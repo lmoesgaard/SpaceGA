{
 "cells": [
  {
   "cell_type": "markdown",
   "id": "e9f83124",
   "metadata": {},
   "source": [
    "Notebook for setting up and runnning a SpaceGA. The scoring function selected below is LogPSearch (trying to find moleceules with a high logP), but it can be switched for LogPSearch or DockSearch if desired. Just remember to switch the scoring inputs as well. To run SpaceGA, you need to have [SpaceLight](https://www.biosolveit.de/spacelight-a-spotlight-on-the-analog-hunter-for-chemical-spaces/) installed with a license. Further, to use [Lilly Medchem Rules](https://github.com/IanAWatson/Lilly-Medchem-Rules) as an additional filter, you need to have that installed as well. "
   ]
  },
  {
   "cell_type": "code",
   "execution_count": 1,
   "id": "5fb267aa",
   "metadata": {},
   "outputs": [],
   "source": [
    "from dataclasses import dataclass, field\n",
    "from typing import Dict\n",
    "\n",
    "from setup import save_config\n",
    "from main import main"
   ]
  },
  {
   "cell_type": "code",
   "execution_count": 2,
   "id": "65441081",
   "metadata": {},
   "outputs": [],
   "source": [
    "@dataclass\n",
    "class datasettings():\n",
    "    O: bool = True # Overwrite\n",
    "    o: str = '/path/to/output' # Directory to store output files\n",
    "    i: str = \"data/ZINC.smi\"  # .smi file with molecules for start population\n",
    "    config: str = 'json_files/config.json' # Name of configuration file that will be written\n",
    "    p_size: int = 100 # Population size\n",
    "    children: int = 100 # Number of children per generation / Population size\n",
    "    crossover_rate: float = 0.1 # Crossover rate\n",
    "    iterations: int = 10 # Number of iterations\n",
    "    sim_cutoff: float = 1.00 # Similarity cutoff applied after each iteration (1.00: no filtering)\n",
    "    cpu: int = 64 # Number of CPUs to use\n",
    "    gpu: int = 8  # Number of GPUs to use\n",
    "    space: str = \"data/desired_space.space\" # Path to BiosolveIT space\n",
    "    spacelight: str = \"/path/to/spacelight\" # Path to spacelight executable\n",
    "    f_comp: int = 100 # Find top f_comp*children most similar molecules to compensate for filterng\n",
    "    mode: str = 'LogPSearch'  # FPSearch, LogPSearch, DockSearch\n",
    "    scoring_inputs: Dict[str, str] = field(default_factory=lambda: {}\n",
    "                                           ) # Inputs required for the scoring function\n",
    "    filtering_inputs: Dict[str, float] = field(default_factory=lambda: {\"minlogP\": -4,\n",
    "                                                                        \"maxlogP\": 4.2,\n",
    "                                                                        \"minMw\": 0,\n",
    "                                                                        \"maxMw\": 460,\n",
    "                                                                        \"minHBA\": 0,\n",
    "                                                                        \"maxHBA\": 9,\n",
    "                                                                        \"minHBD\": 0,\n",
    "                                                                        \"maxHBD\": 5,\n",
    "                                                                        \"minRings\": 0,\n",
    "                                                                        \"maxRings\": 4,\n",
    "                                                                        \"minRotB\": 0,\n",
    "                                                                        \"maxRotB\": 10,\n",
    "                                                                        \"BRENK\": True,\n",
    "                                                                        #\"Lilly\": \"/path/to/Lilly_Medchem_Rules.rb\",\n",
    "                                                                        \"PAINS\": True,\n",
    "                                                                        }\n",
    "                                           ) # Inputs required for molecule filtering"
   ]
  },
  {
   "cell_type": "code",
   "execution_count": 3,
   "id": "1a38014b",
   "metadata": {},
   "outputs": [],
   "source": [
    "settings = datasettings()\n",
    "save_config(settings)\n",
    "out = main(\"SpaceGA\", settings.config)"
   ]
  }
 ],
 "metadata": {
  "kernelspec": {
   "display_name": "Python 3 (ipykernel)",
   "language": "python",
   "name": "python3"
  },
  "language_info": {
   "codemirror_mode": {
    "name": "ipython",
    "version": 3
   },
   "file_extension": ".py",
   "mimetype": "text/x-python",
   "name": "python",
   "nbconvert_exporter": "python",
   "pygments_lexer": "ipython3",
   "version": "3.10.10"
  }
 },
 "nbformat": 4,
 "nbformat_minor": 5
}
