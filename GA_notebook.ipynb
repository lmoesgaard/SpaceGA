{
 "cells": [
  {
   "cell_type": "markdown",
   "id": "5458619d",
   "metadata": {},
   "source": [
    "Notebook for setting up and runnning a modified version of the genetic algorithm developed by Jensen (Jensen, J. H. (2019). A graph-based genetic algorithm and generative model/Monte Carlo tree search for the exploration of chemical space. Chemical science, 10(12), 3567-3572.\n",
    "). The scoring function selected below is FPSeacrh (trying to find moleceules that are similar to aspirin), but it can be switched for LogPSearch or DockSearch if desired. Just remember to switch the scoring inputs as well."
   ]
  },
  {
   "cell_type": "code",
   "execution_count": 1,
   "id": "fdd30323",
   "metadata": {},
   "outputs": [],
   "source": [
    "from dataclasses import dataclass, field\n",
    "from typing import Dict\n",
    "\n",
    "from setup import save_config\n",
    "from main import main"
   ]
  },
  {
   "cell_type": "code",
   "execution_count": 2,
   "id": "8ce0318d",
   "metadata": {},
   "outputs": [],
   "source": [
    "@dataclass\n",
    "class datasettings():\n",
    "    O: bool = True # Overwrite\n",
    "    o: str = '/path/to/output' # Directory to store output files\n",
    "    i: str = \"data/ZINC.smi\"  # .smi file with molecules for start population\n",
    "    config: str = 'json_files/config.json' # Name of configuration file that will be written\n",
    "    p_size: int = 100 # Population size\n",
    "    children: int = 100 # Number of children per generation / Population size\n",
    "    crossover_rate: float = 0.1 # Crossover rate\n",
    "    mutation_rate: float = 1.0 # Crossover rate\n",
    "    iterations: int = 20 # Number of iterations\n",
    "    sim_cutoff: float = 0.35 # Similarity cutoff applied after each iteration (1.00: no filtering)\n",
    "    cpu: int = 64 # Number of CPUs to use\n",
    "    gpu: int = 8  # Number of GPUs to use\n",
    "    mode: str = 'FPSearch'  # FPSearch, LogPSearch, DockSearch\n",
    "    scoring_inputs: Dict[str, str] = field(default_factory=lambda: {\"smiles\": \"CC(=O)OC1=CC=CC=C1C(=O)O\"}\n",
    "                                           ) # Inputs required for the scoring function\n",
    "    filtering_inputs: Dict[str, float] = field(default_factory=lambda: {\"minlogP\": -4,\n",
    "                                                                        \"maxlogP\": 4.2,\n",
    "                                                                        \"minMw\": 0,\n",
    "                                                                        \"maxMw\": 460,\n",
    "                                                                        \"minHBA\": 0,\n",
    "                                                                        \"maxHBA\": 9,\n",
    "                                                                        \"minHBD\": 0,\n",
    "                                                                        \"maxHBD\": 5,\n",
    "                                                                        \"minRings\": 0,\n",
    "                                                                        \"maxRings\": 4,\n",
    "                                                                        \"minRotB\": 0,\n",
    "                                                                        \"maxRotB\": 10\n",
    "                                                                        }\n",
    "                                           ) # Inputs for molecule filtering"
   ]
  },
  {
   "cell_type": "code",
   "execution_count": 3,
   "id": "e7a773ca",
   "metadata": {},
   "outputs": [],
   "source": [
    "settings = datasettings()\n",
    "save_config(settings)\n",
    "out = main(\"GA\", settings.config)"
   ]
  }
 ],
 "metadata": {
  "kernelspec": {
   "display_name": "Python 3 (ipykernel)",
   "language": "python",
   "name": "python3"
  },
  "language_info": {
   "codemirror_mode": {
    "name": "ipython",
    "version": 3
   },
   "file_extension": ".py",
   "mimetype": "text/x-python",
   "name": "python",
   "nbconvert_exporter": "python",
   "pygments_lexer": "ipython3",
   "version": "3.10.10"
  }
 },
 "nbformat": 4,
 "nbformat_minor": 5
}
