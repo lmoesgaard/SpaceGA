{
 "cells": [
  {
   "cell_type": "markdown",
   "id": "e9f83124",
   "metadata": {},
   "source": [
    "Notebook for setting up and runnning a SpaceGA. The scoring function selected below is LogPSearch (trying to find moleceules with a high logP), but it can be switched for LogPSearch or DockSearch if desired. Just remember to switch the scoring inputs as well. To run SpaceGA, you need to have [SpaceLight](https://www.biosolveit.de/spacelight-a-spotlight-on-the-analog-hunter-for-chemical-spaces/) installed with a license. Further, to use [Lilly Medchem Rules](https://github.com/IanAWatson/Lilly-Medchem-Rules) as an additional filter, you need to have that installed as well. "
   ]
  },
  {
   "cell_type": "code",
   "execution_count": null,
   "id": "5fb267aa",
   "metadata": {},
   "outputs": [],
   "source": [
    "from dataclasses import dataclass, field\n",
    "from typing import Dict\n",
    "import numpy as np\n",
    "\n",
    "from spacega import SpaceGA"
   ]
  },
  {
   "cell_type": "code",
   "execution_count": null,
   "id": "65441081",
   "metadata": {},
   "outputs": [],
   "source": [
    "@dataclass\n",
    "class datasettings():\n",
    "    # Required inputs\n",
    "    O: bool = True # Overwrite\n",
    "    o: str = '/path/to/output' # Directory to store output files\n",
    "    i: str = \"/path/to/input.smi\"  # .smi file with molecules for start population\n",
    "    space: str = \"data/desired_space.space\" # Path to BiosolveIT space\n",
    "    spacelight: str = \"/path/to/spacelight\" # Path to spacelight executable\n",
    "\n",
    "    # Optional inputs\n",
    "    p_size: int = 100 # Population size\n",
    "    children: int = 100 # Number of children per generation / Population size\n",
    "    crossover_rate: float = 0.1 # Crossover rate\n",
    "    iterations: int = 10 # Number of iterations\n",
    "    sim_cutoff: float = 1.00 # Similarity cutoff applied after each iteration (1.00: no filtering)\n",
    "    cpu: int = 64 # Number of CPUs to use\n",
    "    sl_cpu: int = 64 # Number of CPUs to use when running SpaceLight\n",
    "    f_comp: int = 100 # Find top f_comp*children most similar molecules to compensate for filterng\n",
    "    fp_type: str = \"ECFP4\" # Fingerprint type\n",
    "    # Optional inputs for al\n",
    "    al: bool = True\n",
    "    model_name: str = \"NN1\"\n",
    "    patience: int = 5\n",
    "    # Optional inputs for scoring\n",
    "    scoring_inputs: Dict[str, str] = field(default_factory=lambda: {}\n",
    "                                           ) # Inputs required for the scoring function\n",
    "    # Optional inputs for filtering\n",
    "    filtering_inputs: Dict[str, float] = field(default_factory=lambda: {\"minlogP\": -4,\n",
    "                                                                        \"maxlogP\": 100,\n",
    "                                                                        \"minMw\": 0,\n",
    "                                                                        \"maxMw\": 460,\n",
    "                                                                        \"minHBA\": 0,\n",
    "                                                                        \"maxHBA\": 9,\n",
    "                                                                        \"minHBD\": 0,\n",
    "                                                                        \"maxHBD\": 5,\n",
    "                                                                        \"minRings\": 0,\n",
    "                                                                        \"maxRings\": 4,\n",
    "                                                                        \"minRotB\": 0,\n",
    "                                                                        \"maxRotB\": 10,\n",
    "                                                                        \"BRENK\": True,\n",
    "                                                                        #\"Lilly\": \"/path/to/Lilly_Medchem_Rules.rb\",\n",
    "                                                                        \"PAINS\": True,\n",
    "                                                                        \"Substructure\": \"CCCO\",\n",
    "                                                                        }) "
   ]
  },
  {
   "cell_type": "code",
   "execution_count": null,
   "id": "8494d796-2476-45b6-8f96-c8fd396e5aa8",
   "metadata": {},
   "outputs": [],
   "source": [
    "class MyScoringTool:\n",
    "    def __init__(self, arguments):\n",
    "        pass\n",
    "\n",
    "    def score(self, smi_lst, name_lst):\n",
    "        scores = np.random.random(len(smi_lst))\n",
    "        return scores"
   ]
  },
  {
   "cell_type": "code",
   "execution_count": null,
   "id": "1a38014b",
   "metadata": {},
   "outputs": [],
   "source": [
    "# Run a single round of SpaceGA\n",
    "generation = 0 # Don't restart (to restart, set generation to the generation number of the last completed run)\n",
    "settings = datasettings()\n",
    "spacega = SpaceGA(generation=generation, **settings.__dict__)\n",
    "scoringtool = MyScoringTool(spacega.__dict__)\n",
    "spacega.gen += 1\n",
    "offspring = spacega.reproduce()\n",
    "offspring[\"scores\"] = scoringtool.score(offspring.smi.to_list(), offspring.name.to_list())\n",
    "spacega.population = spacega.update_pop(offspring)"
   ]
  }
 ],
 "metadata": {
  "kernelspec": {
   "display_name": "Python 3 (ipykernel)",
   "language": "python",
   "name": "python3"
  },
  "language_info": {
   "codemirror_mode": {
    "name": "ipython",
    "version": 3
   },
   "file_extension": ".py",
   "mimetype": "text/x-python",
   "name": "python",
   "nbconvert_exporter": "python",
   "pygments_lexer": "ipython3",
   "version": "3.12.2"
  }
 },
 "nbformat": 4,
 "nbformat_minor": 5
}
