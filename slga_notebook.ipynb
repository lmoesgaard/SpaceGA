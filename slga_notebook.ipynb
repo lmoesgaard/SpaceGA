{
 "cells": [
  {
   "cell_type": "code",
   "execution_count": 1,
   "id": "a678295f",
   "metadata": {},
   "outputs": [],
   "source": [
    "from dataclasses import dataclass, field\n",
    "from typing import Dict\n",
    "import shutil\n",
    "import os\n",
    "import json\n",
    "\n",
    "from setup import save_config\n",
    "from main import main"
   ]
  },
  {
   "cell_type": "code",
   "execution_count": 2,
   "id": "85bf9efe",
   "metadata": {},
   "outputs": [],
   "source": [
    "@dataclass\n",
    "class datasettings():\n",
    "    O: bool = True # Overwrite\n",
    "    o: str = '/scratch/project_465000868/laust/spacesearch/test2' # Directory to store output files\n",
    "    i: str = \"data/1.smi\"  # .smi file with molecules for start population\n",
    "    config: str = 'json_files/test2.json' # Name of configuration file that will be written\n",
    "    p_size: int = 100 # Population size\n",
    "    children: int = 100 # Number of children per generation / Population size\n",
    "    crossover_rate: float = 0.1 # Crossover rate\n",
    "    iterations: int = 10 # Number of iterations\n",
    "    sim_cutoff: float = 0.35\n",
    "    cpu: int = 64 # Number of cpus to use\n",
    "    gpu: int = 8  # Number of cpus to use\n",
    "    space: str = \"data/REALSpace_48bn_2024-02.space\"\n",
    "    spacelight: str = \"/project/project_465000868/laust/dock_setup/spacelight-1.3.0-Linux-x64/spacelight\"\n",
    "    mode: str = 'DockSearch'  # FPSearch, LogPSearch, DockSearch\n",
    "    scoring_inputs: Dict[str, str] = field(default_factory=lambda: {\"fld_file\": \"/scratch/project_465000868/laust/grids/PARP1/rec.maps.fld\", \n",
    "                                                                    \"autodock\": \"/project/project_465000868/laust/AutoDock-GPU/bin/autodock_gpu_256wi\",\n",
    "                                                                    \"workdir\": \"/scratch/project_465000868/laust/spacesearch/test2\",\n",
    "                                                                    \"obabel\": \"/project/project_465000868/laust/dock_setup/ADFRsuite_x86_64Linux_1.0/bin/obabel\",\n",
    "                                                                   }\n",
    "                                           ) # Inputs required for the scoring function\n",
    "    filtering_inputs: Dict[str, float] = field(default_factory=lambda: {\"minlogP\": -4,\n",
    "                                                                        \"maxlogP\": 4.2,\n",
    "                                                                        \"minMw\": 0,\n",
    "                                                                        \"maxMw\": 460,\n",
    "                                                                        \"minHBA\": 0,\n",
    "                                                                        \"maxHBA\": 9,\n",
    "                                                                        \"minHBD\": 0,\n",
    "                                                                        \"maxHBD\": 5,\n",
    "                                                                        \"minRings\": 0,\n",
    "                                                                        \"maxRings\": 4,\n",
    "                                                                        \"minRotB\": 0,\n",
    "                                                                        \"maxRotB\": 10\n",
    "                                                                        }\n",
    "                                           ) # Inputs required for molecule filtering"
   ]
  },
  {
   "cell_type": "code",
   "execution_count": 3,
   "id": "9e808a36",
   "metadata": {},
   "outputs": [],
   "source": [
    "settings = datasettings()\n",
    "save_config(settings)\n",
    "#out = main(\"SLGA\", settings.config)"
   ]
  }
 ],
 "metadata": {
  "kernelspec": {
   "display_name": "Python 3 (ipykernel)",
   "language": "python",
   "name": "python3"
  },
  "language_info": {
   "codemirror_mode": {
    "name": "ipython",
    "version": 3
   },
   "file_extension": ".py",
   "mimetype": "text/x-python",
   "name": "python",
   "nbconvert_exporter": "python",
   "pygments_lexer": "ipython3",
   "version": "3.10.10"
  }
 },
 "nbformat": 4,
 "nbformat_minor": 5
}
